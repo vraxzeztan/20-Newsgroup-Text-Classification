{
  "nbformat": 4,
  "nbformat_minor": 0,
  "metadata": {
    "colab": {
      "name": "Text_Classification_Multinomial_Naive_Bayes.ipynb",
      "version": "0.3.2",
      "provenance": [],
      "collapsed_sections": []
    },
    "language_info": {
      "codemirror_mode": {
        "name": "ipython",
        "version": 3
      },
      "file_extension": ".py",
      "mimetype": "text/x-python",
      "name": "python",
      "nbconvert_exporter": "python",
      "pygments_lexer": "ipython3",
      "version": "3.7.1"
    },
    "kernelspec": {
      "display_name": "Python 3",
      "language": "python",
      "name": "python3"
    },
    "accelerator": "GPU"
  },
  "cells": [
    {
      "cell_type": "markdown",
      "metadata": {
        "id": "cdjLGww2PIsK",
        "colab_type": "text"
      },
      "source": [
        "## Importing the Libraries"
      ]
    },
    {
      "cell_type": "code",
      "metadata": {
        "colab_type": "code",
        "id": "q_5_OMK9VsTY",
        "colab": {}
      },
      "source": [
        "import numpy as np\n",
        "from os import listdir\n",
        "from os.path import isfile, join\n",
        "import string\n",
        "import pandas as pd\n",
        "import os\n",
        "from nltk.corpus import stopwords"
      ],
      "execution_count": 0,
      "outputs": []
    },
    {
      "cell_type": "markdown",
      "metadata": {
        "id": "i48GS0HOPIsc",
        "colab_type": "text"
      },
      "source": [
        "## Loading the dataset"
      ]
    },
    {
      "cell_type": "code",
      "metadata": {
        "colab_type": "code",
        "id": "GzNtI00DWEhY",
        "outputId": "1d76220b-d362-424a-b2b3-4e14f5b8e48c",
        "colab": {
          "base_uri": "https://localhost:8080/",
          "height": 94
        }
      },
      "source": [
        "import urllib.request\n",
        "urllib.request.urlretrieve (\"https://archive.ics.uci.edu/ml/machine-learning-databases/20newsgroups-mld/20_newsgroups.tar.gz\", \"a.tar.gz\")\n",
        "urllib.request.urlretrieve (\"http://archive.ics.uci.edu/ml/machine-learning-databases/20newsgroups-mld/mini_newsgroups.tar.gz\", \"b.tar.gz\")"
      ],
      "execution_count": 2,
      "outputs": [
        {
          "output_type": "execute_result",
          "data": {
            "text/plain": [
              "('b.tar.gz', <http.client.HTTPMessage at 0x7f46f6f3cf60>)"
            ]
          },
          "metadata": {
            "tags": []
          },
          "execution_count": 2
        }
      ]
    },
    {
      "cell_type": "code",
      "metadata": {
        "colab_type": "code",
        "id": "hWRqzyFnXyv7",
        "colab": {}
      },
      "source": [
        "import tarfile\n",
        "tar = tarfile.open(\"a.tar.gz\")\n",
        "tar2 = tarfile.open(\"b.tar.gz\")\n",
        "tar.extractall()\n",
        "tar2.extractall()\n",
        "tar.close()\n",
        "tar2.close()"
      ],
      "execution_count": 0,
      "outputs": []
    },
    {
      "cell_type": "code",
      "metadata": {
        "colab_type": "code",
        "id": "vVXkLmkObUSO",
        "colab": {}
      },
      "source": [
        "stop_words = set(stopwords.words('english'))\n",
        "block_wrds = ['sender:','subject:','writes:','references:','organization:','from:','date:','>i','22','|>','>>','reply-to:','xref:','newsgroups:','>in','>the','message-id:','lines:','path:','re:','--','sender:','last','better','never','every','even','two','good','used','first','need','going','must','really','might','well','without','made','give','look','try','far','less','seem','new','make','many','way','since','using','take','help','thanks','send','free','may','see','much','want','find','would','one','like','get','use','also','could','say','us','go','please','said','set','got','sure','come','lot','seems','able','anything','put']"
      ],
      "execution_count": 0,
      "outputs": []
    },
    {
      "cell_type": "markdown",
      "metadata": {
        "colab_type": "text",
        "id": "nz5IledlL3nV"
      },
      "source": [
        "## Creating the BOW (Bag of Words) Model"
      ]
    },
    {
      "cell_type": "code",
      "metadata": {
        "colab_type": "code",
        "id": "X2BArPXMHjTq",
        "colab": {}
      },
      "source": [
        "dictionary = {}\n",
        "count=0\n",
        "for file in os.listdir(\"mini_newsgroups\"): # making the features list by finding the frequency of each word in the docs \n",
        "    for files in os.listdir(\"mini_newsgroups/\"+file):\n",
        "        f = open(\"mini_newsgroups/\"+file+\"/\"+files,'r',errors='ignore')\n",
        "        message = f.read()\n",
        "        message = message.split()\n",
        "        k =1\n",
        "        for i in message:\n",
        "            count +=1\n",
        "            if(len(i) > 1):\n",
        "                if not i.lower() in stop_words:\n",
        "                    if not i.lower() in block_wrds:\n",
        "                        if(i.lower() in dictionary.keys()):\n",
        "                            dictionary[i.lower()] = dictionary[i.lower()] +1\n",
        "                        else:\n",
        "                            dictionary[i.lower()] = 1\n",
        "\n",
        "\n",
        "        f.close()"
      ],
      "execution_count": 0,
      "outputs": []
    },
    {
      "cell_type": "code",
      "metadata": {
        "colab_type": "code",
        "id": "g_8Tpl5-b88u",
        "colab": {}
      },
      "source": [
        "#sorted_vocab\n",
        "import operator\n",
        "sorted_vocab = sorted(dictionary.items(), key= operator.itemgetter(1), reverse= True)   # sort the vocab based on frequency"
      ],
      "execution_count": 0,
      "outputs": []
    },
    {
      "cell_type": "markdown",
      "metadata": {
        "colab_type": "text",
        "id": "zqfGgxe8MCyQ"
      },
      "source": [
        "## Extracting features"
      ]
    },
    {
      "cell_type": "code",
      "metadata": {
        "colab_type": "code",
        "id": "5HS8Fd-ZIty5",
        "colab": {}
      },
      "source": [
        "feature_names = []\n",
        "for i in range(len(sorted_vocab)):\n",
        "    if(sorted_vocab[1000][1] <= sorted_vocab[i][1]):\n",
        "        feature_names.append(sorted_vocab[i][0])"
      ],
      "execution_count": 0,
      "outputs": []
    },
    {
      "cell_type": "code",
      "metadata": {
        "colab_type": "code",
        "id": "KybIxHYPItvK",
        "outputId": "3d830940-341d-427e-f800-603481047f16",
        "colab": {
          "base_uri": "https://localhost:8080/",
          "height": 74
        }
      },
      "source": [
        "print(\"Number of top features =\",len(feature_names))"
      ],
      "execution_count": 11,
      "outputs": [
        {
          "output_type": "stream",
          "text": [
            "Number of top features = 1007\n"
          ],
          "name": "stdout"
        }
      ]
    },
    {
      "cell_type": "markdown",
      "metadata": {
        "colab_type": "text",
        "id": "p4quK0SUKGeL"
      },
      "source": [
        "## Creating the dataset"
      ]
    },
    {
      "cell_type": "code",
      "metadata": {
        "colab_type": "code",
        "id": "UpqVvuQrJ4nA",
        "outputId": "b43e8b61-780a-471a-a2ae-5d88488a83fa",
        "colab": {
          "base_uri": "https://localhost:8080/",
          "height": 94
        }
      },
      "source": [
        "df = pd.DataFrame(columns=feature_names)\n",
        "count=0\n",
        "for file in os.listdir(\"20_newsgroups\"):\n",
        "    for files in os.listdir(\"20_newsgroups/\"+file):\n",
        "        count=count+1\n",
        "        df.loc[len(df)] = np.zeros(len(feature_names))\n",
        "        f = open(\"20_newsgroups/\"+file+\"/\"+files,'r',errors='ignore')\n",
        "        message = f.read()\n",
        "        message = message.split()\n",
        "        k =0\n",
        "        for i in message:\n",
        "            if(i.lower() in df.columns):\n",
        "                df[i.lower()][len(df)-1] += 1\n",
        "        f.close()\n",
        "print(\"Total files present = \",count)"
      ],
      "execution_count": 12,
      "outputs": [
        {
          "output_type": "stream",
          "text": [
            "Total files present =  19997\n"
          ],
          "name": "stdout"
        }
      ]
    },
    {
      "cell_type": "markdown",
      "metadata": {
        "colab_type": "text",
        "id": "joUsXmF1POys"
      },
      "source": [
        "## Labelling the output"
      ]
    },
    {
      "cell_type": "code",
      "metadata": {
        "colab_type": "code",
        "id": "Qz-0SG6xKhAJ",
        "colab": {}
      },
      "source": [
        "y=[]\n",
        "i=0\n",
        "count=0\n",
        "for file in os.listdir(\"20_newsgroups\"):\n",
        "    for files in os.listdir(\"20_newsgroups/\"+file):\n",
        "        count+=1\n",
        "        y.append(i)\n",
        "    i=i+1\n",
        "    \n",
        "set(y)\n",
        "x = df.values"
      ],
      "execution_count": 0,
      "outputs": []
    },
    {
      "cell_type": "markdown",
      "metadata": {
        "colab_type": "text",
        "id": "LRmyFI6ZPhSe"
      },
      "source": [
        "## Splitting the data for INBUILT MNB CLASSIFIER"
      ]
    },
    {
      "cell_type": "code",
      "metadata": {
        "colab_type": "code",
        "id": "7vEgS0jiKgz3",
        "colab": {}
      },
      "source": [
        "from sklearn import model_selection\n",
        "x_train, x_test, y_train, y_test = model_selection.train_test_split(x, y, test_size = 0.25, random_state = 0)"
      ],
      "execution_count": 0,
      "outputs": []
    },
    {
      "cell_type": "code",
      "metadata": {
        "colab_type": "code",
        "id": "2Iz8BzdYKgdc",
        "colab": {}
      },
      "source": [
        "from sklearn.naive_bayes import MultinomialNB\n",
        "clf = MultinomialNB()\n",
        "clf.fit(x_train, y_train)\n",
        "y_pred = clf.predict(x_test)"
      ],
      "execution_count": 0,
      "outputs": []
    },
    {
      "cell_type": "code",
      "metadata": {
        "colab_type": "code",
        "id": "JbQl80fRfenx",
        "outputId": "943d67cc-3af6-4d16-ea92-626ae12d41d7",
        "colab": {
          "base_uri": "https://localhost:8080/",
          "height": 505
        }
      },
      "source": [
        "from sklearn.metrics import classification_report, f1_score, confusion_matrix\n",
        "print(classification_report(y_pred,y_test))"
      ],
      "execution_count": 18,
      "outputs": [
        {
          "output_type": "stream",
          "text": [
            "              precision    recall  f1-score   support\n",
            "\n",
            "           0       0.85      0.90      0.87       220\n",
            "           1       0.83      0.70      0.76       300\n",
            "           2       0.91      0.92      0.91       248\n",
            "           3       0.85      0.83      0.84       247\n",
            "           4       0.88      0.80      0.83       260\n",
            "           5       0.88      0.68      0.77       311\n",
            "           6       0.83      0.91      0.87       239\n",
            "           7       0.96      0.97      0.96       268\n",
            "           8       0.85      0.89      0.87       270\n",
            "           9       1.00      0.92      0.96       265\n",
            "          10       0.77      0.69      0.73       259\n",
            "          11       0.83      0.86      0.84       228\n",
            "          12       0.87      0.81      0.84       262\n",
            "          13       0.86      0.93      0.89       237\n",
            "          14       0.44      0.54      0.49       200\n",
            "          15       0.84      0.88      0.86       243\n",
            "          16       0.83      0.88      0.85       236\n",
            "          17       0.93      0.81      0.87       323\n",
            "          18       0.44      0.79      0.57       144\n",
            "          19       0.95      0.94      0.95       240\n",
            "\n",
            "    accuracy                           0.83      5000\n",
            "   macro avg       0.83      0.83      0.83      5000\n",
            "weighted avg       0.85      0.83      0.83      5000\n",
            "\n"
          ],
          "name": "stdout"
        }
      ]
    },
    {
      "cell_type": "markdown",
      "metadata": {
        "colab_type": "text",
        "id": "laRIahSHQI7R"
      },
      "source": [
        "## Self Implemented MNB"
      ]
    },
    {
      "cell_type": "code",
      "metadata": {
        "colab_type": "code",
        "id": "RD4GuijwWxLq",
        "colab": {}
      },
      "source": [
        "df['out'] = y\n",
        "Y = df['out']\n",
        "X = df.iloc[:,:-1]"
      ],
      "execution_count": 0,
      "outputs": []
    },
    {
      "cell_type": "code",
      "metadata": {
        "colab_type": "code",
        "id": "zxHbJ1o6QSsI",
        "colab": {}
      },
      "source": [
        "from sklearn import model_selection\n",
        "x_train, x_test, y_train, y_test = model_selection.train_test_split(X, Y, test_size = 0.25, random_state = 0)"
      ],
      "execution_count": 0,
      "outputs": []
    },
    {
      "cell_type": "code",
      "metadata": {
        "colab_type": "code",
        "id": "LNKaj85vfkUe",
        "colab": {}
      },
      "source": [
        "def fit(X_train,Y_train):\n",
        "    result = {}\n",
        "    result[\"total_data\"] = len(Y_train)\n",
        "    output_classes = set(Y_train)\n",
        "    for current_class in output_classes:\n",
        "        result[current_class] = {}\n",
        "        \n",
        "        current_class_rows = (Y_train == current_class)\n",
        "        X_train_current = X_train[current_class_rows]\n",
        "        Y_train_current = Y_train[current_class_rows]\n",
        "        \n",
        "        sum = 0\n",
        "        for j in (feature_names):\n",
        "            result[current_class][j] = X_train_current[j].sum()\n",
        "            sum += result[current_class][j]\n",
        "            \n",
        "        result[current_class][\"total_count\"] = sum\n",
        "            \n",
        "    return result        \n",
        "        "
      ],
      "execution_count": 0,
      "outputs": []
    },
    {
      "cell_type": "code",
      "metadata": {
        "colab_type": "code",
        "id": "FKbac3Pxf10a",
        "colab": {}
      },
      "source": [
        "def probability(dictionary, row, current_class):\n",
        "    output = np.log(dictionary[current_class][\"total_count\"]) - np.log(dictionary[\"total_data\"])\n",
        "    \n",
        "    for index,count in row.iteritems():\n",
        "        \n",
        "        feature_name = index\n",
        "        feature_count = count\n",
        "        \n",
        "        num = dictionary[current_class][feature_name] + 1                          #  LAPLACE CORRECTION\n",
        "        den = dictionary[current_class]['total_count'] + len(feature_names)\n",
        "        \n",
        "        current_word_prob = np.log(num) - np.log(den)\n",
        "        for i in range(int(count)):\n",
        "          output += current_word_prob        \n",
        "    return output"
      ],
      "execution_count": 0,
      "outputs": []
    },
    {
      "cell_type": "code",
      "metadata": {
        "colab_type": "code",
        "id": "OYlsxRwAgF3w",
        "colab": {}
      },
      "source": [
        "def predict_single_row(dictionary, row):\n",
        "    classes = dictionary.keys()\n",
        "    best_class = -1\n",
        "    best_p = -10\n",
        "    first_run = True\n",
        "    \n",
        "    for current_class in classes:\n",
        "      \n",
        "        if current_class == 'total_data':\n",
        "            continue\n",
        "        p_current_class = probability(dictionary,row,current_class)\n",
        "        if (first_run or p_current_class > best_p):     # comapare each classes and find the best one\n",
        "            best_p = p_current_class\n",
        "            best_class = current_class\n",
        "        first_run = False\n",
        "    return best_class\n"
      ],
      "execution_count": 0,
      "outputs": []
    },
    {
      "cell_type": "code",
      "metadata": {
        "colab_type": "code",
        "id": "LShUToU-gHMm",
        "colab": {}
      },
      "source": [
        "def predict(dictionary,x_test):\n",
        "    Y_pred = []\n",
        "    for j in x_test.iterrows():\n",
        "    \n",
        "        x_class = predict_single_row(dictionary,j[1]) # pass each document (row) to the predict_single_row function\n",
        "        Y_pred.append(x_class)\n",
        "\n",
        "    return Y_pred"
      ],
      "execution_count": 0,
      "outputs": []
    },
    {
      "cell_type": "code",
      "metadata": {
        "colab_type": "code",
        "id": "jBnJ1T1-gIwW",
        "colab": {}
      },
      "source": [
        "dictionary = fit(x_train,y_train)"
      ],
      "execution_count": 0,
      "outputs": []
    },
    {
      "cell_type": "code",
      "metadata": {
        "colab_type": "code",
        "id": "81K77dx-gKgp",
        "outputId": "ec2da4d2-8dfd-4847-9165-85ed3eb4dc9b",
        "colab": {
          "base_uri": "https://localhost:8080/",
          "height": 526
        }
      },
      "source": [
        "y_pred = predict(dictionary,x_test)\n",
        "print(classification_report(y_pred, y_test))"
      ],
      "execution_count": 26,
      "outputs": [
        {
          "output_type": "stream",
          "text": [
            "              precision    recall  f1-score   support\n",
            "\n",
            "           0       0.86      0.88      0.87       226\n",
            "           1       0.84      0.71      0.77       302\n",
            "           2       0.92      0.92      0.92       248\n",
            "           3       0.86      0.83      0.85       247\n",
            "           4       0.89      0.81      0.84       259\n",
            "           5       0.87      0.70      0.78       298\n",
            "           6       0.84      0.90      0.87       242\n",
            "           7       0.97      0.97      0.97       269\n",
            "           8       0.85      0.89      0.87       271\n",
            "           9       1.00      0.92      0.96       265\n",
            "          10       0.78      0.69      0.73       262\n",
            "          11       0.83      0.85      0.84       229\n",
            "          12       0.87      0.81      0.84       261\n",
            "          13       0.86      0.93      0.89       240\n",
            "          14       0.44      0.55      0.49       195\n",
            "          15       0.84      0.88      0.86       242\n",
            "          16       0.83      0.88      0.85       236\n",
            "          17       0.93      0.83      0.88       313\n",
            "          18       0.48      0.79      0.60       156\n",
            "          19       0.95      0.94      0.95       239\n",
            "\n",
            "    accuracy                           0.84      5000\n",
            "   macro avg       0.83      0.83      0.83      5000\n",
            "weighted avg       0.85      0.84      0.84      5000\n",
            "\n"
          ],
          "name": "stdout"
        }
      ]
    }
  ]
}